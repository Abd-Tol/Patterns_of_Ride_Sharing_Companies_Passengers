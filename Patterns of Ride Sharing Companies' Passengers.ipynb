{
 "cells": [
  {
   "cell_type": "markdown",
   "metadata": {},
   "source": [
    "### Preview:\n",
    "\n",
    "From the previous Part in SQL we found the Trip duration for rides from the `Loop` neighborhood to the `O'Hare` International Airport on Saturdays with consideration to the weather condition and by calculationg the average duration based on condition we can find the following:\n",
    "1. **GOOD:** 1999.67\n",
    "2. **BAD:** 2427.20\n",
    "\n",
    "Based on the average above we can say that the duration of rides from the the Loop to O'Hare International Airport changes on rainy Saturdays but this alone is not enough as it is based solely on the average without factoring if the difference is significant therefore we will continue our work in Python after exporting the data from the SQL Database and our work here will include the following: \n",
    "\n",
    "\n",
    "**[Step 4. Exploratory data analysis](#Step-4.-Exploratory-data-analysis)**\n",
    "\n",
    "we have the following datasets:\n",
    "\n",
    "`/datasets/project_sql_result_01.csv`. It contains the following data:\n",
    "- **company_name:** taxi company name\n",
    "- **trips_amount:** the number of rides for each taxi company on November 15-16, 2017.\n",
    "\n",
    "`/datasets/project_sql_result_04.csv`. It contains the following data:\n",
    "- **dropoff_location_name:** Chicago neighborhoods where rides ended\n",
    "- **average_trips:** the average number of rides that ended in each neighborhood in November 2017.\n",
    "\n",
    "For these two datasets we will:\n",
    "\n",
    "1. Import the files\n",
    "2. Study the data they contain\n",
    "3. Make sure the data types are correct\n",
    "4. [Identify the top 10 neighborhoods in terms of dropoffs](#Identify-the-top-10-neighborhoods-in-terms-of-dropoffs)\n",
    "5. [Make graphs: taxi companies and number of rides, top 10 neighborhoods by number of dropoffs](#Make-Graphs)\n",
    "6. [Draw conclusions based on each graph and explain the results](#EDA-Conclusion)\n",
    "\n",
    "**[Step 5. Testing hypotheses (Python)](#Step-5.-Testing-hypotheses-(Python))**\n",
    "\n",
    "\n",
    "`/datasets/project_sql_result_07.csv` — the result of our last query in SQL. It contains data on rides from the Loop to O'Hare International Airport. These are the table's field values:\n",
    "- **start_ts:** pickup date and time\n",
    "- **weather_conditions:** weather conditions at the moment the ride started\n",
    "- **duration_seconds:** ride duration in seconds\n",
    "\n",
    "We will Test the hypothesis:\n",
    "***The average duration of rides from the Loop to O'Hare International Airport changes on rainy Saturdays.***\n",
    "\n",
    "**[Step 6. Final Conclusion](#Step-6.-Final-Conclusion)**\n",
    "\n",
    "Here we will draw our final conclusion and see if we can suggest some changes to improve the new company **Zuber**."
   ]
  },
  {
   "cell_type": "markdown",
   "metadata": {},
   "source": [
    "# Step 4. Exploratory data analysis\n",
    "\n",
    "First of all we will read the 2 CSV Files that we have and check the data for missing values, duplicates and data types."
   ]
  },
  {
   "cell_type": "code",
   "execution_count": 1,
   "metadata": {},
   "outputs": [],
   "source": [
    "!pip install --upgrade --quiet seaborn\n",
    "!pip install --upgrade --quiet scipy"
   ]
  },
  {
   "cell_type": "code",
   "execution_count": 2,
   "metadata": {},
   "outputs": [],
   "source": [
    "import pandas as pd\n",
    "import numpy as mp\n",
    "import seaborn as sns\n",
    "import matplotlib.pyplot as plt\n",
    "from scipy import stats as st\n",
    "from scipy.stats import levene"
   ]
  },
  {
   "cell_type": "code",
   "execution_count": 3,
   "metadata": {},
   "outputs": [],
   "source": [
    "company = pd.read_csv('/datasets/project_sql_result_01.csv')\n",
    "neighborhood = pd.read_csv('/datasets/project_sql_result_04.csv')"
   ]
  },
  {
   "cell_type": "code",
   "execution_count": 4,
   "metadata": {},
   "outputs": [
    {
     "data": {
      "text/html": [
       "<div>\n",
       "<style scoped>\n",
       "    .dataframe tbody tr th:only-of-type {\n",
       "        vertical-align: middle;\n",
       "    }\n",
       "\n",
       "    .dataframe tbody tr th {\n",
       "        vertical-align: top;\n",
       "    }\n",
       "\n",
       "    .dataframe thead th {\n",
       "        text-align: right;\n",
       "    }\n",
       "</style>\n",
       "<table border=\"1\" class=\"dataframe\">\n",
       "  <thead>\n",
       "    <tr style=\"text-align: right;\">\n",
       "      <th></th>\n",
       "      <th>company_name</th>\n",
       "      <th>trips_amount</th>\n",
       "    </tr>\n",
       "  </thead>\n",
       "  <tbody>\n",
       "    <tr>\n",
       "      <td>0</td>\n",
       "      <td>Flash Cab</td>\n",
       "      <td>19558</td>\n",
       "    </tr>\n",
       "    <tr>\n",
       "      <td>1</td>\n",
       "      <td>Taxi Affiliation Services</td>\n",
       "      <td>11422</td>\n",
       "    </tr>\n",
       "    <tr>\n",
       "      <td>2</td>\n",
       "      <td>Medallion Leasing</td>\n",
       "      <td>10367</td>\n",
       "    </tr>\n",
       "    <tr>\n",
       "      <td>3</td>\n",
       "      <td>Yellow Cab</td>\n",
       "      <td>9888</td>\n",
       "    </tr>\n",
       "    <tr>\n",
       "      <td>4</td>\n",
       "      <td>Taxi Affiliation Service Yellow</td>\n",
       "      <td>9299</td>\n",
       "    </tr>\n",
       "  </tbody>\n",
       "</table>\n",
       "</div>"
      ],
      "text/plain": [
       "                      company_name  trips_amount\n",
       "0                        Flash Cab         19558\n",
       "1        Taxi Affiliation Services         11422\n",
       "2                Medallion Leasing         10367\n",
       "3                       Yellow Cab          9888\n",
       "4  Taxi Affiliation Service Yellow          9299"
      ]
     },
     "execution_count": 4,
     "metadata": {},
     "output_type": "execute_result"
    }
   ],
   "source": [
    "company.head()"
   ]
  },
  {
   "cell_type": "code",
   "execution_count": 5,
   "metadata": {},
   "outputs": [
    {
     "data": {
      "text/html": [
       "<div>\n",
       "<style scoped>\n",
       "    .dataframe tbody tr th:only-of-type {\n",
       "        vertical-align: middle;\n",
       "    }\n",
       "\n",
       "    .dataframe tbody tr th {\n",
       "        vertical-align: top;\n",
       "    }\n",
       "\n",
       "    .dataframe thead th {\n",
       "        text-align: right;\n",
       "    }\n",
       "</style>\n",
       "<table border=\"1\" class=\"dataframe\">\n",
       "  <thead>\n",
       "    <tr style=\"text-align: right;\">\n",
       "      <th></th>\n",
       "      <th>dropoff_location_name</th>\n",
       "      <th>average_trips</th>\n",
       "    </tr>\n",
       "  </thead>\n",
       "  <tbody>\n",
       "    <tr>\n",
       "      <td>0</td>\n",
       "      <td>Loop</td>\n",
       "      <td>10727.466667</td>\n",
       "    </tr>\n",
       "    <tr>\n",
       "      <td>1</td>\n",
       "      <td>River North</td>\n",
       "      <td>9523.666667</td>\n",
       "    </tr>\n",
       "    <tr>\n",
       "      <td>2</td>\n",
       "      <td>Streeterville</td>\n",
       "      <td>6664.666667</td>\n",
       "    </tr>\n",
       "    <tr>\n",
       "      <td>3</td>\n",
       "      <td>West Loop</td>\n",
       "      <td>5163.666667</td>\n",
       "    </tr>\n",
       "    <tr>\n",
       "      <td>4</td>\n",
       "      <td>O'Hare</td>\n",
       "      <td>2546.900000</td>\n",
       "    </tr>\n",
       "  </tbody>\n",
       "</table>\n",
       "</div>"
      ],
      "text/plain": [
       "  dropoff_location_name  average_trips\n",
       "0                  Loop   10727.466667\n",
       "1           River North    9523.666667\n",
       "2         Streeterville    6664.666667\n",
       "3             West Loop    5163.666667\n",
       "4                O'Hare    2546.900000"
      ]
     },
     "execution_count": 5,
     "metadata": {},
     "output_type": "execute_result"
    }
   ],
   "source": [
    "neighborhood.head()"
   ]
  },
  {
   "cell_type": "code",
   "execution_count": 6,
   "metadata": {},
   "outputs": [
    {
     "name": "stdout",
     "output_type": "stream",
     "text": [
      "<class 'pandas.core.frame.DataFrame'>\n",
      "RangeIndex: 64 entries, 0 to 63\n",
      "Data columns (total 2 columns):\n",
      "company_name    64 non-null object\n",
      "trips_amount    64 non-null int64\n",
      "dtypes: int64(1), object(1)\n",
      "memory usage: 1.1+ KB\n"
     ]
    }
   ],
   "source": [
    "company.info()"
   ]
  },
  {
   "cell_type": "markdown",
   "metadata": {},
   "source": [
    "We will start with the first Dataset <mark>company</mark>:  \n",
    "- it contains 2 columns (with self explanatory names)\n",
    "- it has 64 rows with no missing values.\n",
    "- data type is ok but we can change it for the column `trips_amount` to int32 or even int 16 to save some memory\n",
    "- `company_name` will be changed to lower case to make sure there are no duplicates that are being overlooked because of the letter's case."
   ]
  },
  {
   "cell_type": "code",
   "execution_count": 7,
   "metadata": {},
   "outputs": [
    {
     "data": {
      "text/html": [
       "<div>\n",
       "<style scoped>\n",
       "    .dataframe tbody tr th:only-of-type {\n",
       "        vertical-align: middle;\n",
       "    }\n",
       "\n",
       "    .dataframe tbody tr th {\n",
       "        vertical-align: top;\n",
       "    }\n",
       "\n",
       "    .dataframe thead th {\n",
       "        text-align: right;\n",
       "    }\n",
       "</style>\n",
       "<table border=\"1\" class=\"dataframe\">\n",
       "  <thead>\n",
       "    <tr style=\"text-align: right;\">\n",
       "      <th></th>\n",
       "      <th>company_name</th>\n",
       "      <th>trips_amount</th>\n",
       "    </tr>\n",
       "  </thead>\n",
       "  <tbody>\n",
       "    <tr>\n",
       "      <td>0</td>\n",
       "      <td>flash cab</td>\n",
       "      <td>19558</td>\n",
       "    </tr>\n",
       "    <tr>\n",
       "      <td>1</td>\n",
       "      <td>taxi affiliation services</td>\n",
       "      <td>11422</td>\n",
       "    </tr>\n",
       "    <tr>\n",
       "      <td>2</td>\n",
       "      <td>medallion leasing</td>\n",
       "      <td>10367</td>\n",
       "    </tr>\n",
       "    <tr>\n",
       "      <td>3</td>\n",
       "      <td>yellow cab</td>\n",
       "      <td>9888</td>\n",
       "    </tr>\n",
       "    <tr>\n",
       "      <td>4</td>\n",
       "      <td>taxi affiliation service yellow</td>\n",
       "      <td>9299</td>\n",
       "    </tr>\n",
       "  </tbody>\n",
       "</table>\n",
       "</div>"
      ],
      "text/plain": [
       "                      company_name  trips_amount\n",
       "0                        flash cab         19558\n",
       "1        taxi affiliation services         11422\n",
       "2                medallion leasing         10367\n",
       "3                       yellow cab          9888\n",
       "4  taxi affiliation service yellow          9299"
      ]
     },
     "execution_count": 7,
     "metadata": {},
     "output_type": "execute_result"
    }
   ],
   "source": [
    "company['trips_amount'] = company['trips_amount'].astype('int32')\n",
    "company['company_name'] = company['company_name'].str.lower()\n",
    "company.head()"
   ]
  },
  {
   "cell_type": "code",
   "execution_count": 8,
   "metadata": {},
   "outputs": [
    {
     "data": {
      "text/plain": [
       "True"
      ]
     },
     "execution_count": 8,
     "metadata": {},
     "output_type": "execute_result"
    }
   ],
   "source": [
    "# now lets make sure that all the companies are unique\n",
    "company['company_name'].nunique() == len(company)"
   ]
  },
  {
   "cell_type": "code",
   "execution_count": 9,
   "metadata": {},
   "outputs": [
    {
     "name": "stdout",
     "output_type": "stream",
     "text": [
      "<class 'pandas.core.frame.DataFrame'>\n",
      "RangeIndex: 64 entries, 0 to 63\n",
      "Data columns (total 2 columns):\n",
      "company_name    64 non-null object\n",
      "trips_amount    64 non-null int32\n",
      "dtypes: int32(1), object(1)\n",
      "memory usage: 896.0+ bytes\n"
     ]
    }
   ],
   "source": [
    "company.info()"
   ]
  },
  {
   "cell_type": "code",
   "execution_count": 10,
   "metadata": {},
   "outputs": [
    {
     "data": {
      "text/plain": [
       "count       64.000000\n",
       "mean      2145.484375\n",
       "std       3812.310186\n",
       "min          2.000000\n",
       "25%         20.750000\n",
       "50%        178.500000\n",
       "75%       2106.500000\n",
       "max      19558.000000\n",
       "Name: trips_amount, dtype: float64"
      ]
     },
     "execution_count": 10,
     "metadata": {},
     "output_type": "execute_result"
    }
   ],
   "source": [
    "company['trips_amount'].describe()"
   ]
  },
  {
   "cell_type": "code",
   "execution_count": 11,
   "metadata": {},
   "outputs": [
    {
     "data": {
      "image/png": "[encoded data removed]",
      "text/plain": [
       "<Figure size 576x432 with 1 Axes>"
      ]
     },
     "metadata": {
      "needs_background": "light"
     },
     "output_type": "display_data"
    }
   ],
   "source": [
    "plt.figure(figsize = (8,6))\n",
    "sns.histplot(data = company, x= 'trips_amount',binwidth =1000,\n",
    "             bins=int(180/5), color = 'cornflowerblue')\n",
    "plt.title('Distribution of Number of Trips per Company')\n",
    "plt.xlabel(\"Number of Trips\")\n",
    "plt.ylabel(\"Number of Companies\");"
   ]
  },
  {
   "cell_type": "code",
   "execution_count": 12,
   "metadata": {},
   "outputs": [
    {
     "data": {
      "text/plain": [
       "0"
      ]
     },
     "execution_count": 12,
     "metadata": {},
     "output_type": "execute_result"
    }
   ],
   "source": [
    "company.duplicated().sum()"
   ]
  },
  {
   "cell_type": "code",
   "execution_count": 13,
   "metadata": {},
   "outputs": [
    {
     "name": "stdout",
     "output_type": "stream",
     "text": [
      "<class 'pandas.core.frame.DataFrame'>\n",
      "RangeIndex: 94 entries, 0 to 93\n",
      "Data columns (total 2 columns):\n",
      "dropoff_location_name    94 non-null object\n",
      "average_trips            94 non-null float64\n",
      "dtypes: float64(1), object(1)\n",
      "memory usage: 1.6+ KB\n"
     ]
    }
   ],
   "source": [
    "neighborhood.info()"
   ]
  },
  {
   "cell_type": "markdown",
   "metadata": {},
   "source": [
    "- data type was changed to int32 \n",
    "- by looking at the description and the hist we can see that most of the companies in our data (75% of the companies) have less than 2150 trips with the one huge outlier reaching 19500 trip. \n",
    "- We will not exclude the outliers as we are studying the most popular companies which can be in these outliers.\n",
    "- we dont have any duplicates in this dataset even after changing the names to lower case so we are clear here for now. \n",
    "\n",
    "Now we will jump to the next dataset <mark>neighborhood</mark>:\n",
    "based on the info above we notice:\n",
    "- it contains 2 columns: the names can be changed to make them clearer and easier to understand(will look into it). \n",
    "- it has 94 rows with no missing values.\n",
    "- data type is ok for the `dropoff_location_name` but we can change it for the column `average_trips` from float to int as we are working with numbers of trips.\n",
    "- `dropoff_location_name` will be changed to lower case to make sure there are no duplicates that are being overlooked because of the letter's case."
   ]
  },
  {
   "cell_type": "code",
   "execution_count": 14,
   "metadata": {},
   "outputs": [
    {
     "data": {
      "text/html": [
       "<div>\n",
       "<style scoped>\n",
       "    .dataframe tbody tr th:only-of-type {\n",
       "        vertical-align: middle;\n",
       "    }\n",
       "\n",
       "    .dataframe tbody tr th {\n",
       "        vertical-align: top;\n",
       "    }\n",
       "\n",
       "    .dataframe thead th {\n",
       "        text-align: right;\n",
       "    }\n",
       "</style>\n",
       "<table border=\"1\" class=\"dataframe\">\n",
       "  <thead>\n",
       "    <tr style=\"text-align: right;\">\n",
       "      <th></th>\n",
       "      <th>dropoff_location_name</th>\n",
       "      <th>average_trips</th>\n",
       "    </tr>\n",
       "  </thead>\n",
       "  <tbody>\n",
       "    <tr>\n",
       "      <td>0</td>\n",
       "      <td>loop</td>\n",
       "      <td>10727</td>\n",
       "    </tr>\n",
       "    <tr>\n",
       "      <td>1</td>\n",
       "      <td>river north</td>\n",
       "      <td>9523</td>\n",
       "    </tr>\n",
       "    <tr>\n",
       "      <td>2</td>\n",
       "      <td>streeterville</td>\n",
       "      <td>6664</td>\n",
       "    </tr>\n",
       "    <tr>\n",
       "      <td>3</td>\n",
       "      <td>west loop</td>\n",
       "      <td>5163</td>\n",
       "    </tr>\n",
       "    <tr>\n",
       "      <td>4</td>\n",
       "      <td>o'hare</td>\n",
       "      <td>2546</td>\n",
       "    </tr>\n",
       "  </tbody>\n",
       "</table>\n",
       "</div>"
      ],
      "text/plain": [
       "  dropoff_location_name  average_trips\n",
       "0                  loop          10727\n",
       "1           river north           9523\n",
       "2         streeterville           6664\n",
       "3             west loop           5163\n",
       "4                o'hare           2546"
      ]
     },
     "execution_count": 14,
     "metadata": {},
     "output_type": "execute_result"
    }
   ],
   "source": [
    "#the numbers should be automatically rounded to the closest integer.\n",
    "neighborhood['average_trips'] = neighborhood['average_trips'].astype('int32') \n",
    "#changing the strings to lower case\n",
    "neighborhood['dropoff_location_name'] = neighborhood['dropoff_location_name'].str.lower()\n",
    "\n",
    "neighborhood.head()"
   ]
  },
  {
   "cell_type": "code",
   "execution_count": 15,
   "metadata": {},
   "outputs": [
    {
     "data": {
      "text/plain": [
       "True"
      ]
     },
     "execution_count": 15,
     "metadata": {},
     "output_type": "execute_result"
    }
   ],
   "source": [
    "# now lets make sure that all the dropoff location are unique \n",
    "neighborhood['dropoff_location_name'].nunique() == len(neighborhood)"
   ]
  },
  {
   "cell_type": "code",
   "execution_count": 16,
   "metadata": {},
   "outputs": [
    {
     "data": {
      "text/plain": [
       "count       94.000000\n",
       "mean       599.478723\n",
       "std       1714.555974\n",
       "min          1.000000\n",
       "25%         14.000000\n",
       "50%         51.500000\n",
       "75%        298.750000\n",
       "max      10727.000000\n",
       "Name: average_trips, dtype: float64"
      ]
     },
     "execution_count": 16,
     "metadata": {},
     "output_type": "execute_result"
    }
   ],
   "source": [
    "neighborhood['average_trips'].describe()"
   ]
  },
  {
   "cell_type": "code",
   "execution_count": 17,
   "metadata": {},
   "outputs": [
    {
     "data": {
      "image/png": "[encoded data removed]",
      "text/plain": [
       "<Figure size 576x432 with 1 Axes>"
      ]
     },
     "metadata": {
      "needs_background": "light"
     },
     "output_type": "display_data"
    }
   ],
   "source": [
    "plt.figure(figsize = (8,6))\n",
    "sns.histplot(data = neighborhood, x= 'average_trips',binwidth =300,\n",
    "             bins=int(180/5), color = 'seagreen')\n",
    "plt.title('Distribution of Average Number of Trips per Dropoff Location')\n",
    "plt.xlabel(\"Average Number of Trips\")\n",
    "plt.ylabel(\"Number of Dropoff Location\");"
   ]
  },
  {
   "cell_type": "markdown",
   "metadata": {},
   "source": [
    "- data type was changed to int32 \n",
    "- by looking at the description and the hist we can see that most of the Dropoff Locations in our data (75% of the Dropoff Locations) have less than 300 trips with few high outlier reaching 10700 trip. \n",
    "- We will not exclude the outliers as we are studying the top Dropoff Locations which can be in these outliers.\n",
    "- We will change the name of the column to `neighborhood` to make it less confusing."
   ]
  },
  {
   "cell_type": "code",
   "execution_count": 18,
   "metadata": {},
   "outputs": [
    {
     "data": {
      "text/html": [
       "<div>\n",
       "<style scoped>\n",
       "    .dataframe tbody tr th:only-of-type {\n",
       "        vertical-align: middle;\n",
       "    }\n",
       "\n",
       "    .dataframe tbody tr th {\n",
       "        vertical-align: top;\n",
       "    }\n",
       "\n",
       "    .dataframe thead th {\n",
       "        text-align: right;\n",
       "    }\n",
       "</style>\n",
       "<table border=\"1\" class=\"dataframe\">\n",
       "  <thead>\n",
       "    <tr style=\"text-align: right;\">\n",
       "      <th></th>\n",
       "      <th>neighborhood</th>\n",
       "      <th>average_trips</th>\n",
       "    </tr>\n",
       "  </thead>\n",
       "  <tbody>\n",
       "    <tr>\n",
       "      <td>0</td>\n",
       "      <td>loop</td>\n",
       "      <td>10727</td>\n",
       "    </tr>\n",
       "    <tr>\n",
       "      <td>1</td>\n",
       "      <td>river north</td>\n",
       "      <td>9523</td>\n",
       "    </tr>\n",
       "    <tr>\n",
       "      <td>2</td>\n",
       "      <td>streeterville</td>\n",
       "      <td>6664</td>\n",
       "    </tr>\n",
       "    <tr>\n",
       "      <td>3</td>\n",
       "      <td>west loop</td>\n",
       "      <td>5163</td>\n",
       "    </tr>\n",
       "    <tr>\n",
       "      <td>4</td>\n",
       "      <td>o'hare</td>\n",
       "      <td>2546</td>\n",
       "    </tr>\n",
       "  </tbody>\n",
       "</table>\n",
       "</div>"
      ],
      "text/plain": [
       "    neighborhood  average_trips\n",
       "0           loop          10727\n",
       "1    river north           9523\n",
       "2  streeterville           6664\n",
       "3      west loop           5163\n",
       "4         o'hare           2546"
      ]
     },
     "execution_count": 18,
     "metadata": {},
     "output_type": "execute_result"
    }
   ],
   "source": [
    "neighborhood.rename(columns={'dropoff_location_name': 'neighborhood'},inplace=True)\n",
    "neighborhood.head()"
   ]
  },
  {
   "cell_type": "code",
   "execution_count": 19,
   "metadata": {},
   "outputs": [
    {
     "data": {
      "text/plain": [
       "0"
      ]
     },
     "execution_count": 19,
     "metadata": {},
     "output_type": "execute_result"
    }
   ],
   "source": [
    "neighborhood.duplicated().sum()"
   ]
  },
  {
   "cell_type": "markdown",
   "metadata": {},
   "source": [
    "- we dont have any duplicates in this dataset either even after changing the names to lower case so we are clear here for now. \n",
    "- now lets go a head and start our analysis.\n",
    "\n"
   ]
  },
  {
   "cell_type": "markdown",
   "metadata": {},
   "source": [
    "### Identify the top 10 neighborhoods in terms of dropoffs"
   ]
  },
  {
   "cell_type": "code",
   "execution_count": 20,
   "metadata": {},
   "outputs": [
    {
     "data": {
      "text/html": [
       "<div>\n",
       "<style scoped>\n",
       "    .dataframe tbody tr th:only-of-type {\n",
       "        vertical-align: middle;\n",
       "    }\n",
       "\n",
       "    .dataframe tbody tr th {\n",
       "        vertical-align: top;\n",
       "    }\n",
       "\n",
       "    .dataframe thead th {\n",
       "        text-align: right;\n",
       "    }\n",
       "</style>\n",
       "<table border=\"1\" class=\"dataframe\">\n",
       "  <thead>\n",
       "    <tr style=\"text-align: right;\">\n",
       "      <th></th>\n",
       "      <th>neighborhood</th>\n",
       "      <th>average_trips</th>\n",
       "      <th>overall_market_share</th>\n",
       "      <th>top_market_share</th>\n",
       "    </tr>\n",
       "  </thead>\n",
       "  <tbody>\n",
       "    <tr>\n",
       "      <td>0</td>\n",
       "      <td>loop</td>\n",
       "      <td>10727</td>\n",
       "      <td>19.036042</td>\n",
       "      <td>24.805753</td>\n",
       "    </tr>\n",
       "    <tr>\n",
       "      <td>1</td>\n",
       "      <td>river north</td>\n",
       "      <td>9523</td>\n",
       "      <td>16.899434</td>\n",
       "      <td>22.021552</td>\n",
       "    </tr>\n",
       "    <tr>\n",
       "      <td>2</td>\n",
       "      <td>streeterville</td>\n",
       "      <td>6664</td>\n",
       "      <td>11.825877</td>\n",
       "      <td>15.410230</td>\n",
       "    </tr>\n",
       "    <tr>\n",
       "      <td>3</td>\n",
       "      <td>west loop</td>\n",
       "      <td>5163</td>\n",
       "      <td>9.162215</td>\n",
       "      <td>11.939229</td>\n",
       "    </tr>\n",
       "    <tr>\n",
       "      <td>4</td>\n",
       "      <td>o'hare</td>\n",
       "      <td>2546</td>\n",
       "      <td>4.518110</td>\n",
       "      <td>5.887522</td>\n",
       "    </tr>\n",
       "    <tr>\n",
       "      <td>5</td>\n",
       "      <td>lake view</td>\n",
       "      <td>2420</td>\n",
       "      <td>4.294511</td>\n",
       "      <td>5.596152</td>\n",
       "    </tr>\n",
       "    <tr>\n",
       "      <td>6</td>\n",
       "      <td>grant park</td>\n",
       "      <td>2068</td>\n",
       "      <td>3.669855</td>\n",
       "      <td>4.782166</td>\n",
       "    </tr>\n",
       "    <tr>\n",
       "      <td>7</td>\n",
       "      <td>museum campus</td>\n",
       "      <td>1510</td>\n",
       "      <td>2.679633</td>\n",
       "      <td>3.491814</td>\n",
       "    </tr>\n",
       "    <tr>\n",
       "      <td>8</td>\n",
       "      <td>gold coast</td>\n",
       "      <td>1364</td>\n",
       "      <td>2.420543</td>\n",
       "      <td>3.154195</td>\n",
       "    </tr>\n",
       "    <tr>\n",
       "      <td>9</td>\n",
       "      <td>sheffield &amp; depaul</td>\n",
       "      <td>1259</td>\n",
       "      <td>2.234211</td>\n",
       "      <td>2.911387</td>\n",
       "    </tr>\n",
       "  </tbody>\n",
       "</table>\n",
       "</div>"
      ],
      "text/plain": [
       "         neighborhood  average_trips  overall_market_share  top_market_share\n",
       "0                loop          10727             19.036042         24.805753\n",
       "1         river north           9523             16.899434         22.021552\n",
       "2       streeterville           6664             11.825877         15.410230\n",
       "3           west loop           5163              9.162215         11.939229\n",
       "4              o'hare           2546              4.518110          5.887522\n",
       "5           lake view           2420              4.294511          5.596152\n",
       "6          grant park           2068              3.669855          4.782166\n",
       "7       museum campus           1510              2.679633          3.491814\n",
       "8          gold coast           1364              2.420543          3.154195\n",
       "9  sheffield & depaul           1259              2.234211          2.911387"
      ]
     },
     "execution_count": 20,
     "metadata": {},
     "output_type": "execute_result"
    }
   ],
   "source": [
    "top_neighborhoods = neighborhood.sort_values('average_trips', ascending = False).head(10)\n",
    "# lets calculate the overall market share\n",
    "top_neighborhoods['overall_market_share'] = (top_neighborhoods['average_trips'] / neighborhood['average_trips'].sum()) * 100\n",
    "# lets calculate the market share between the top 10 neighborhoods\n",
    "top_neighborhoods['top_market_share'] = (top_neighborhoods['average_trips'] / top_neighborhoods['average_trips'].sum()) * 100\n",
    "top_neighborhoods"
   ]
  },
  {
   "cell_type": "markdown",
   "metadata": {},
   "source": [
    "above are the top 10 neighborhoods in terms of dropoffs. we can see that the number of dropoffs vary significantly between the first and last neighborhood. "
   ]
  },
  {
   "cell_type": "code",
   "execution_count": 21,
   "metadata": {},
   "outputs": [
    {
     "data": {
      "text/html": [
       "<div>\n",
       "<style scoped>\n",
       "    .dataframe tbody tr th:only-of-type {\n",
       "        vertical-align: middle;\n",
       "    }\n",
       "\n",
       "    .dataframe tbody tr th {\n",
       "        vertical-align: top;\n",
       "    }\n",
       "\n",
       "    .dataframe thead th {\n",
       "        text-align: right;\n",
       "    }\n",
       "</style>\n",
       "<table border=\"1\" class=\"dataframe\">\n",
       "  <thead>\n",
       "    <tr style=\"text-align: right;\">\n",
       "      <th></th>\n",
       "      <th>company_name</th>\n",
       "      <th>trips_amount</th>\n",
       "      <th>overall_market_share</th>\n",
       "      <th>market_share</th>\n",
       "    </tr>\n",
       "  </thead>\n",
       "  <tbody>\n",
       "    <tr>\n",
       "      <td>0</td>\n",
       "      <td>flash cab</td>\n",
       "      <td>19558</td>\n",
       "      <td>14.243578</td>\n",
       "      <td>19.701426</td>\n",
       "    </tr>\n",
       "    <tr>\n",
       "      <td>1</td>\n",
       "      <td>taxi affiliation services</td>\n",
       "      <td>11422</td>\n",
       "      <td>8.318343</td>\n",
       "      <td>11.505762</td>\n",
       "    </tr>\n",
       "    <tr>\n",
       "      <td>2</td>\n",
       "      <td>medallion leasing</td>\n",
       "      <td>10367</td>\n",
       "      <td>7.550014</td>\n",
       "      <td>10.443025</td>\n",
       "    </tr>\n",
       "    <tr>\n",
       "      <td>3</td>\n",
       "      <td>yellow cab</td>\n",
       "      <td>9888</td>\n",
       "      <td>7.201171</td>\n",
       "      <td>9.960513</td>\n",
       "    </tr>\n",
       "    <tr>\n",
       "      <td>4</td>\n",
       "      <td>taxi affiliation service yellow</td>\n",
       "      <td>9299</td>\n",
       "      <td>6.772218</td>\n",
       "      <td>9.367193</td>\n",
       "    </tr>\n",
       "    <tr>\n",
       "      <td>5</td>\n",
       "      <td>chicago carriage cab corp</td>\n",
       "      <td>9181</td>\n",
       "      <td>6.686282</td>\n",
       "      <td>9.248328</td>\n",
       "    </tr>\n",
       "    <tr>\n",
       "      <td>6</td>\n",
       "      <td>city service</td>\n",
       "      <td>8448</td>\n",
       "      <td>6.152457</td>\n",
       "      <td>8.509952</td>\n",
       "    </tr>\n",
       "    <tr>\n",
       "      <td>7</td>\n",
       "      <td>sun taxi</td>\n",
       "      <td>7701</td>\n",
       "      <td>5.608436</td>\n",
       "      <td>7.757474</td>\n",
       "    </tr>\n",
       "    <tr>\n",
       "      <td>8</td>\n",
       "      <td>star north management llc</td>\n",
       "      <td>7455</td>\n",
       "      <td>5.429281</td>\n",
       "      <td>7.509670</td>\n",
       "    </tr>\n",
       "    <tr>\n",
       "      <td>9</td>\n",
       "      <td>blue ribbon taxi association inc.</td>\n",
       "      <td>5953</td>\n",
       "      <td>4.335414</td>\n",
       "      <td>5.996656</td>\n",
       "    </tr>\n",
       "  </tbody>\n",
       "</table>\n",
       "</div>"
      ],
      "text/plain": [
       "                        company_name  trips_amount  overall_market_share  \\\n",
       "0                          flash cab         19558             14.243578   \n",
       "1          taxi affiliation services         11422              8.318343   \n",
       "2                  medallion leasing         10367              7.550014   \n",
       "3                         yellow cab          9888              7.201171   \n",
       "4    taxi affiliation service yellow          9299              6.772218   \n",
       "5          chicago carriage cab corp          9181              6.686282   \n",
       "6                       city service          8448              6.152457   \n",
       "7                           sun taxi          7701              5.608436   \n",
       "8          star north management llc          7455              5.429281   \n",
       "9  blue ribbon taxi association inc.          5953              4.335414   \n",
       "\n",
       "   market_share  \n",
       "0     19.701426  \n",
       "1     11.505762  \n",
       "2     10.443025  \n",
       "3      9.960513  \n",
       "4      9.367193  \n",
       "5      9.248328  \n",
       "6      8.509952  \n",
       "7      7.757474  \n",
       "8      7.509670  \n",
       "9      5.996656  "
      ]
     },
     "execution_count": 21,
     "metadata": {},
     "output_type": "execute_result"
    }
   ],
   "source": [
    "top_companies = company.sort_values('trips_amount', ascending = False).head(10)\n",
    "# lets calculate the overall market share\n",
    "top_companies['overall_market_share'] = (top_companies['trips_amount'] / company['trips_amount'].sum()) * 100\n",
    "# lets calculate the market share between the top 10 companies\n",
    "top_companies['market_share'] = (top_companies['trips_amount'] / top_companies['trips_amount'].sum()) * 100\n",
    "top_companies"
   ]
  },
  {
   "cell_type": "markdown",
   "metadata": {},
   "source": [
    "above are the top 10 companies based on number of rides and market share"
   ]
  },
  {
   "cell_type": "markdown",
   "metadata": {},
   "source": [
    "### Make Graphs\n",
    "\n",
    "now we will make Graphs showing the tables above:\n",
    "- Top 10 taxi companies and number of rides \n",
    "- Top 10 neighborhoods in terms of dropoffs."
   ]
  },
  {
   "cell_type": "code",
   "execution_count": 22,
   "metadata": {},
   "outputs": [
    {
     "data": {
      "image/png": "[encoded data removed]",
      "text/plain": [
       "<Figure size 1008x720 with 1 Axes>"
      ]
     },
     "metadata": {
      "needs_background": "light"
     },
     "output_type": "display_data"
    }
   ],
   "source": [
    "fig = top_companies.plot(x= 'company_name', y= 'trips_amount' ,kind='barh', figsize=(14,10), \n",
    "                                         color =\"lightseagreen\", fontsize=13, width=0.6);\n",
    "fig.set_alpha(0.8)\n",
    "fig.set_title(\"Top 10 Companies by Trips Amount (Trips) + Market Share (MS)\", fontsize=18)\n",
    "fig.set_ylabel(\"Company\", fontsize=15);\n",
    "fig.set_xlabel(\"Trips Amount\", fontsize=15);\n",
    "plt.xticks(fontsize = 12);\n",
    "plt.yticks(fontsize = 12)\n",
    "\n",
    "fig.margins(0.13)\n",
    "\n",
    "# to anotate with the values\n",
    "for i in fig.patches:\n",
    "    fig.annotate('Trips: ' + str(i.get_width()), ( i.get_width() + 250, i.get_y()+ 0.5 ), fontsize=12, color='teal') \n",
    "    \n",
    "# create a list to collect the plt.patches data\n",
    "totals = []\n",
    "\n",
    "# find the values and append to list\n",
    "for i in fig.patches:\n",
    "    totals.append(i.get_width())\n",
    "\n",
    "# set individual bar lables using above list\n",
    "total = sum(totals)\n",
    "\n",
    "# set individual bar lables using above list\n",
    "for i in fig.patches:\n",
    "    # get_x pulls left or right; get_height pushes up or down\n",
    "    fig.text(i.get_width() + 250 , i.get_y() + 0.25,'MS: ' + str(round((i.get_width()/total)*100, 2))+'%', fontsize=12, color='mediumturquoise')\n",
    "    \n",
    "fig.invert_yaxis() "
   ]
  },
  {
   "cell_type": "code",
   "execution_count": 23,
   "metadata": {
    "scrolled": false
   },
   "outputs": [
    {
     "data": {
      "image/png": "[encoded data removed]",
      "text/plain": [
       "<Figure size 1008x576 with 1 Axes>"
      ]
     },
     "metadata": {
      "needs_background": "light"
     },
     "output_type": "display_data"
    }
   ],
   "source": [
    "fig = top_neighborhoods.plot(x= 'neighborhood', y= 'average_trips' ,kind='bar', figsize=(14,8), \n",
    "                                         color =\"indianred\", fontsize=13, width=0.7);\n",
    "fig.set_alpha(0.8)\n",
    "fig.set_title(\"Top 10 Neighborhoods by Average Dropoffs (AVG) + Market Share (MS)\", fontsize=18)\n",
    "fig.set_ylabel(\"Average Dropoffs\", fontsize=15);\n",
    "fig.set_xlabel(\"Neighborhood\", fontsize=15);\n",
    "plt.xticks(rotation= -45 ,fontsize = 13);\n",
    "plt.yticks(fontsize = 11);\n",
    "\n",
    "\n",
    "fig.margins(0.11)\n",
    "\n",
    "# to anotate with the values\n",
    "for i in fig.patches:\n",
    "    fig.annotate('AVG: ' + str(i.get_height()), (i.get_x()-0.1 , i.get_height() + 200), fontsize=12, color='maroon') \n",
    "    \n",
    "# create a list to collect the plt.patches data\n",
    "totals = []\n",
    "\n",
    "# find the values and append to list\n",
    "for i in fig.patches:\n",
    "    totals.append(i.get_height())\n",
    "\n",
    "# set individual bar lables using above list\n",
    "total = sum(totals)\n",
    "\n",
    "# set individual bar lables using above list\n",
    "for i in fig.patches:\n",
    "    # get_x pulls left or right; get_height pushes up or down\n",
    "    fig.text(i.get_x()- 0.1, i.get_height() + 600 , 'MS: ' + str(round((i.get_height()/total)*100, 2))+'%', fontsize=12, color='red')"
   ]
  },
  {
   "cell_type": "markdown",
   "metadata": {},
   "source": [
    "### EDA Conclusion\n",
    "\n",
    "#### Taxi Companies:\n",
    "\n",
    "- we can see that `flash cab` takes the lead and with a huge difference from the second and with almost double the amount of rides of the third.\n",
    "- `flash cab` controls around 15% of the overall market share and 20% of the top 10 market which is almost double or more any other company\n",
    "- for the following companies we notice a consistent decrease of the amount of rides with around 1000 ride.\n",
    "- it will be best if we focus on `flash cab` strategy as they are the leading taxi company in Chicago\n",
    "\n",
    "#### Dropoffs Neighborhoods:\n",
    "\n",
    "- we can see that the `loop` neighborhood comes first in terms of average dropoffs then comes `river north` with a 3000 difference with the third.\n",
    "- third and fourth neighborhoods have a relatively close average but then we have another big gap with the fifth.\n",
    "- considering the market share ( both the overall or market share between the top 10) we can see the market are so focused on the top 4 neighborhoods.\n",
    "- If we take a look on the geogrphical distribution of the top neighborhoods in this [**map**](https://www.choosechicago.com/neighborhoods/) we notice that they are located in the same Distisrict/Area or at least next to each other which is considerd <mark>Downtown Chicago</mark> therefore it is not exactly strange for these neighborhoods to be the most common dropoff locations.\n",
    "\n"
   ]
  },
  {
   "cell_type": "markdown",
   "metadata": {},
   "source": [
    "# Step 5. Testing hypotheses (Python)\n",
    "\n",
    "Now we will Test the hypothesis: The average duration of rides from the Loop to O'Hare International Airport changes on rainy Saturdays.  \n",
    "to do so we will start by checking the new data in  `/datasets/project_sql_result_07.csv` — which is the result of our last query in SQL"
   ]
  },
  {
   "cell_type": "code",
   "execution_count": 24,
   "metadata": {},
   "outputs": [
    {
     "data": {
      "text/html": [
       "<div>\n",
       "<style scoped>\n",
       "    .dataframe tbody tr th:only-of-type {\n",
       "        vertical-align: middle;\n",
       "    }\n",
       "\n",
       "    .dataframe tbody tr th {\n",
       "        vertical-align: top;\n",
       "    }\n",
       "\n",
       "    .dataframe thead th {\n",
       "        text-align: right;\n",
       "    }\n",
       "</style>\n",
       "<table border=\"1\" class=\"dataframe\">\n",
       "  <thead>\n",
       "    <tr style=\"text-align: right;\">\n",
       "      <th></th>\n",
       "      <th>start_ts</th>\n",
       "      <th>weather_conditions</th>\n",
       "      <th>duration_seconds</th>\n",
       "    </tr>\n",
       "  </thead>\n",
       "  <tbody>\n",
       "    <tr>\n",
       "      <td>0</td>\n",
       "      <td>2017-11-25 16:00:00</td>\n",
       "      <td>Good</td>\n",
       "      <td>2410.0</td>\n",
       "    </tr>\n",
       "    <tr>\n",
       "      <td>1</td>\n",
       "      <td>2017-11-25 14:00:00</td>\n",
       "      <td>Good</td>\n",
       "      <td>1920.0</td>\n",
       "    </tr>\n",
       "    <tr>\n",
       "      <td>2</td>\n",
       "      <td>2017-11-25 12:00:00</td>\n",
       "      <td>Good</td>\n",
       "      <td>1543.0</td>\n",
       "    </tr>\n",
       "    <tr>\n",
       "      <td>3</td>\n",
       "      <td>2017-11-04 10:00:00</td>\n",
       "      <td>Good</td>\n",
       "      <td>2512.0</td>\n",
       "    </tr>\n",
       "    <tr>\n",
       "      <td>4</td>\n",
       "      <td>2017-11-11 07:00:00</td>\n",
       "      <td>Good</td>\n",
       "      <td>1440.0</td>\n",
       "    </tr>\n",
       "  </tbody>\n",
       "</table>\n",
       "</div>"
      ],
      "text/plain": [
       "              start_ts weather_conditions  duration_seconds\n",
       "0  2017-11-25 16:00:00               Good            2410.0\n",
       "1  2017-11-25 14:00:00               Good            1920.0\n",
       "2  2017-11-25 12:00:00               Good            1543.0\n",
       "3  2017-11-04 10:00:00               Good            2512.0\n",
       "4  2017-11-11 07:00:00               Good            1440.0"
      ]
     },
     "execution_count": 24,
     "metadata": {},
     "output_type": "execute_result"
    }
   ],
   "source": [
    "loop_hare = pd.read_csv('/datasets/project_sql_result_07.csv')\n",
    "loop_hare.head()"
   ]
  },
  {
   "cell_type": "code",
   "execution_count": 25,
   "metadata": {},
   "outputs": [
    {
     "name": "stdout",
     "output_type": "stream",
     "text": [
      "<class 'pandas.core.frame.DataFrame'>\n",
      "RangeIndex: 1068 entries, 0 to 1067\n",
      "Data columns (total 3 columns):\n",
      "start_ts              1068 non-null object\n",
      "weather_conditions    1068 non-null object\n",
      "duration_seconds      1068 non-null float64\n",
      "dtypes: float64(1), object(2)\n",
      "memory usage: 25.2+ KB\n"
     ]
    }
   ],
   "source": [
    "loop_hare.info()"
   ]
  },
  {
   "cell_type": "code",
   "execution_count": 26,
   "metadata": {},
   "outputs": [
    {
     "data": {
      "text/plain": [
       "Good    888\n",
       "Bad     180\n",
       "Name: weather_conditions, dtype: int64"
      ]
     },
     "execution_count": 26,
     "metadata": {},
     "output_type": "execute_result"
    }
   ],
   "source": [
    "loop_hare['weather_conditions'].value_counts()"
   ]
  },
  {
   "cell_type": "markdown",
   "metadata": {},
   "source": [
    "After a quick look at the Dataset <mark>loop_hare</mark>:  \n",
    "- it contains 3 columns (with self explanatory names)\n",
    "- it has 1068 rows with no missing values.\n",
    "- data types need to be changed as follows:\n",
    "  1. `start_ts`: datetime\n",
    "  2. `weather_conditions`: Category as it contains only 2 values [Good - Bad]\n",
    "  3. `duration_seconds`: Int16\n",
    " "
   ]
  },
  {
   "cell_type": "code",
   "execution_count": 27,
   "metadata": {},
   "outputs": [
    {
     "name": "stdout",
     "output_type": "stream",
     "text": [
      "<class 'pandas.core.frame.DataFrame'>\n",
      "RangeIndex: 1068 entries, 0 to 1067\n",
      "Data columns (total 3 columns):\n",
      "start_ts              1068 non-null datetime64[ns]\n",
      "weather_conditions    1068 non-null category\n",
      "duration_seconds      1068 non-null int16\n",
      "dtypes: category(1), datetime64[ns](1), int16(1)\n",
      "memory usage: 11.7 KB\n"
     ]
    }
   ],
   "source": [
    "loop_hare['start_ts'] = pd.to_datetime(loop_hare['start_ts'])\n",
    "loop_hare['weather_conditions'] = loop_hare['weather_conditions'].astype('category')\n",
    "loop_hare['duration_seconds'] = loop_hare['duration_seconds'].astype('int16')\n",
    "loop_hare.info()"
   ]
  },
  {
   "cell_type": "code",
   "execution_count": 28,
   "metadata": {},
   "outputs": [
    {
     "data": {
      "text/html": [
       "<div>\n",
       "<style scoped>\n",
       "    .dataframe tbody tr th:only-of-type {\n",
       "        vertical-align: middle;\n",
       "    }\n",
       "\n",
       "    .dataframe tbody tr th {\n",
       "        vertical-align: top;\n",
       "    }\n",
       "\n",
       "    .dataframe thead th {\n",
       "        text-align: right;\n",
       "    }\n",
       "</style>\n",
       "<table border=\"1\" class=\"dataframe\">\n",
       "  <thead>\n",
       "    <tr style=\"text-align: right;\">\n",
       "      <th></th>\n",
       "      <th>start_ts</th>\n",
       "      <th>weather_conditions</th>\n",
       "      <th>duration_seconds</th>\n",
       "    </tr>\n",
       "  </thead>\n",
       "  <tbody>\n",
       "    <tr>\n",
       "      <td>0</td>\n",
       "      <td>2017-11-25 16:00:00</td>\n",
       "      <td>Good</td>\n",
       "      <td>2410</td>\n",
       "    </tr>\n",
       "    <tr>\n",
       "      <td>1</td>\n",
       "      <td>2017-11-25 14:00:00</td>\n",
       "      <td>Good</td>\n",
       "      <td>1920</td>\n",
       "    </tr>\n",
       "    <tr>\n",
       "      <td>2</td>\n",
       "      <td>2017-11-25 12:00:00</td>\n",
       "      <td>Good</td>\n",
       "      <td>1543</td>\n",
       "    </tr>\n",
       "    <tr>\n",
       "      <td>3</td>\n",
       "      <td>2017-11-04 10:00:00</td>\n",
       "      <td>Good</td>\n",
       "      <td>2512</td>\n",
       "    </tr>\n",
       "    <tr>\n",
       "      <td>4</td>\n",
       "      <td>2017-11-11 07:00:00</td>\n",
       "      <td>Good</td>\n",
       "      <td>1440</td>\n",
       "    </tr>\n",
       "  </tbody>\n",
       "</table>\n",
       "</div>"
      ],
      "text/plain": [
       "             start_ts weather_conditions  duration_seconds\n",
       "0 2017-11-25 16:00:00               Good              2410\n",
       "1 2017-11-25 14:00:00               Good              1920\n",
       "2 2017-11-25 12:00:00               Good              1543\n",
       "3 2017-11-04 10:00:00               Good              2512\n",
       "4 2017-11-11 07:00:00               Good              1440"
      ]
     },
     "execution_count": 28,
     "metadata": {},
     "output_type": "execute_result"
    }
   ],
   "source": [
    "loop_hare.head()"
   ]
  },
  {
   "cell_type": "markdown",
   "metadata": {},
   "source": [
    "now lets check the values in the dataset and see if they need some work and preparation"
   ]
  },
  {
   "cell_type": "code",
   "execution_count": 29,
   "metadata": {},
   "outputs": [
    {
     "data": {
      "text/plain": [
       "2017-11-11 10:00:00    48\n",
       "2017-11-04 14:00:00    46\n",
       "2017-11-04 12:00:00    46\n",
       "2017-11-11 06:00:00    45\n",
       "2017-11-11 08:00:00    43\n",
       "Name: start_ts, dtype: int64"
      ]
     },
     "execution_count": 29,
     "metadata": {},
     "output_type": "execute_result"
    }
   ],
   "source": [
    "loop_hare['start_ts'].value_counts().head()"
   ]
  },
  {
   "cell_type": "markdown",
   "metadata": {},
   "source": [
    "it looks like we have several trips with the same timestamp as these are the results of our last query in the SQL, I went back and checked if they have different trip_id to make sure they are not duplicates and they are actually different trips with different id so no problem here. "
   ]
  },
  {
   "cell_type": "code",
   "execution_count": 30,
   "metadata": {},
   "outputs": [
    {
     "data": {
      "text/html": [
       "<div>\n",
       "<style scoped>\n",
       "    .dataframe tbody tr th:only-of-type {\n",
       "        vertical-align: middle;\n",
       "    }\n",
       "\n",
       "    .dataframe tbody tr th {\n",
       "        vertical-align: top;\n",
       "    }\n",
       "\n",
       "    .dataframe thead th {\n",
       "        text-align: right;\n",
       "    }\n",
       "</style>\n",
       "<table border=\"1\" class=\"dataframe\">\n",
       "  <thead>\n",
       "    <tr style=\"text-align: right;\">\n",
       "      <th></th>\n",
       "      <th>count</th>\n",
       "      <th>mean</th>\n",
       "      <th>std</th>\n",
       "      <th>min</th>\n",
       "      <th>25%</th>\n",
       "      <th>50%</th>\n",
       "      <th>75%</th>\n",
       "      <th>max</th>\n",
       "    </tr>\n",
       "    <tr>\n",
       "      <th>weather_conditions</th>\n",
       "      <th></th>\n",
       "      <th></th>\n",
       "      <th></th>\n",
       "      <th></th>\n",
       "      <th></th>\n",
       "      <th></th>\n",
       "      <th></th>\n",
       "      <th></th>\n",
       "    </tr>\n",
       "  </thead>\n",
       "  <tbody>\n",
       "    <tr>\n",
       "      <td>Bad</td>\n",
       "      <td>180.0</td>\n",
       "      <td>2427.205556</td>\n",
       "      <td>721.314138</td>\n",
       "      <td>480.0</td>\n",
       "      <td>1962.00</td>\n",
       "      <td>2540.0</td>\n",
       "      <td>2928.0</td>\n",
       "      <td>4980.0</td>\n",
       "    </tr>\n",
       "    <tr>\n",
       "      <td>Good</td>\n",
       "      <td>888.0</td>\n",
       "      <td>1999.675676</td>\n",
       "      <td>759.198268</td>\n",
       "      <td>0.0</td>\n",
       "      <td>1389.75</td>\n",
       "      <td>1800.0</td>\n",
       "      <td>2460.0</td>\n",
       "      <td>7440.0</td>\n",
       "    </tr>\n",
       "  </tbody>\n",
       "</table>\n",
       "</div>"
      ],
      "text/plain": [
       "                    count         mean         std    min      25%     50%  \\\n",
       "weather_conditions                                                           \n",
       "Bad                 180.0  2427.205556  721.314138  480.0  1962.00  2540.0   \n",
       "Good                888.0  1999.675676  759.198268    0.0  1389.75  1800.0   \n",
       "\n",
       "                       75%     max  \n",
       "weather_conditions                  \n",
       "Bad                 2928.0  4980.0  \n",
       "Good                2460.0  7440.0  "
      ]
     },
     "execution_count": 30,
     "metadata": {},
     "output_type": "execute_result"
    }
   ],
   "source": [
    "loop_hare.groupby('weather_conditions')['duration_seconds'].describe()"
   ]
  },
  {
   "cell_type": "code",
   "execution_count": 31,
   "metadata": {},
   "outputs": [
    {
     "data": {
      "image/png": "[encoded data removed]",
      "text/plain": [
       "<Figure size 648x432 with 1 Axes>"
      ]
     },
     "metadata": {
      "needs_background": "light"
     },
     "output_type": "display_data"
    }
   ],
   "source": [
    "plt.figure(figsize = (9,6))\n",
    "fig = sns.boxplot(data = loop_hare, x= 'duration_seconds' ,y = 'weather_conditions')\n",
    "fig.set_title('Distribution of Trips Duration Based on Weather Condition' , fontsize = 18)\n",
    "fig.set_ylabel(\"Weather Condition\", fontsize=15);\n",
    "fig.set_xlabel(\"Trip Duration (Sec)\", fontsize=15);\n",
    "plt.xticks(fontsize = 13);\n",
    "plt.yticks(fontsize = 13);"
   ]
  },
  {
   "cell_type": "markdown",
   "metadata": {},
   "source": [
    "As we will use Student-test in our hypothesis and for the results to be more acurate it is best practice to remopve the outliers first and according to the description and the box plot above we can notice:\n",
    "1. for the `Bad` weather condition the median is slightly higher than the mean which indicates that the values are normaly distributed and from the box plot we see that we have a couple of outliers one on each side.\n",
    "2. for the `Good` weather condition the mean is higher than the median and after looking at the box plot we can see that the values are normaly distributed with some high outliers.\n",
    "\n",
    "as the outliers are not much we can just ignore them but we are gonna remove them to have the most accurate results for our hypothesis test."
   ]
  },
  {
   "cell_type": "code",
   "execution_count": 32,
   "metadata": {},
   "outputs": [],
   "source": [
    "Q1_Good = loop_hare[loop_hare['weather_conditions'] == 'Good']['duration_seconds'].quantile(0.25)\n",
    "Q3_Good = loop_hare[loop_hare['weather_conditions'] == 'Good']['duration_seconds'].quantile(0.75)\n",
    "IQR_Good = Q3_Good - Q1_Good\n",
    "bottom_limit_Good = Q1_Good - (1.5*IQR_Good)\n",
    "upper_limit_Good = Q3_Good + (1.5*IQR_Good)\n",
    "if bottom_limit_Good < 0:\n",
    "    bottom_limit_Good = 0\n",
    "    \n",
    "Q1_Bad = loop_hare[loop_hare['weather_conditions'] == 'Bad']['duration_seconds'].quantile(0.25)\n",
    "Q3_Bad = loop_hare[loop_hare['weather_conditions'] == 'Bad']['duration_seconds'].quantile(0.75)\n",
    "IQR_Bad = Q3_Bad - Q1_Bad\n",
    "bottom_limit_Bad= Q1_Bad - (1.5*IQR_Bad)\n",
    "upper_limit_Bad = Q3_Bad + (1.5*IQR_Bad)\n",
    "if bottom_limit_Bad < 0:\n",
    "    bottom_limit_Bad = 0"
   ]
  },
  {
   "cell_type": "code",
   "execution_count": 33,
   "metadata": {},
   "outputs": [],
   "source": [
    "loop_hare_no_outliers = loop_hare.loc[((loop_hare['weather_conditions'] == 'Good') & (loop_hare['duration_seconds'] > bottom_limit_Good) & (loop_hare['duration_seconds'] < upper_limit_Good))\n",
    "             | ((loop_hare['weather_conditions'] == 'Bad') & (loop_hare['duration_seconds'] > bottom_limit_Bad) & (loop_hare['duration_seconds'] < upper_limit_Bad))]"
   ]
  },
  {
   "cell_type": "code",
   "execution_count": 34,
   "metadata": {},
   "outputs": [
    {
     "data": {
      "text/html": [
       "<div>\n",
       "<style scoped>\n",
       "    .dataframe tbody tr th:only-of-type {\n",
       "        vertical-align: middle;\n",
       "    }\n",
       "\n",
       "    .dataframe tbody tr th {\n",
       "        vertical-align: top;\n",
       "    }\n",
       "\n",
       "    .dataframe thead th {\n",
       "        text-align: right;\n",
       "    }\n",
       "</style>\n",
       "<table border=\"1\" class=\"dataframe\">\n",
       "  <thead>\n",
       "    <tr style=\"text-align: right;\">\n",
       "      <th></th>\n",
       "      <th>count</th>\n",
       "      <th>mean</th>\n",
       "      <th>std</th>\n",
       "      <th>min</th>\n",
       "      <th>25%</th>\n",
       "      <th>50%</th>\n",
       "      <th>75%</th>\n",
       "      <th>max</th>\n",
       "    </tr>\n",
       "    <tr>\n",
       "      <th>weather_conditions</th>\n",
       "      <th></th>\n",
       "      <th></th>\n",
       "      <th></th>\n",
       "      <th></th>\n",
       "      <th></th>\n",
       "      <th></th>\n",
       "      <th></th>\n",
       "      <th></th>\n",
       "    </tr>\n",
       "  </thead>\n",
       "  <tbody>\n",
       "    <tr>\n",
       "      <td>Bad</td>\n",
       "      <td>177.0</td>\n",
       "      <td>2434.785311</td>\n",
       "      <td>670.068237</td>\n",
       "      <td>1182.0</td>\n",
       "      <td>1980.00</td>\n",
       "      <td>2560.0</td>\n",
       "      <td>2926.0</td>\n",
       "      <td>4044.0</td>\n",
       "    </tr>\n",
       "    <tr>\n",
       "      <td>Good</td>\n",
       "      <td>876.0</td>\n",
       "      <td>1990.356164</td>\n",
       "      <td>685.419634</td>\n",
       "      <td>60.0</td>\n",
       "      <td>1394.25</td>\n",
       "      <td>1800.0</td>\n",
       "      <td>2460.0</td>\n",
       "      <td>3982.0</td>\n",
       "    </tr>\n",
       "  </tbody>\n",
       "</table>\n",
       "</div>"
      ],
      "text/plain": [
       "                    count         mean         std     min      25%     50%  \\\n",
       "weather_conditions                                                            \n",
       "Bad                 177.0  2434.785311  670.068237  1182.0  1980.00  2560.0   \n",
       "Good                876.0  1990.356164  685.419634    60.0  1394.25  1800.0   \n",
       "\n",
       "                       75%     max  \n",
       "weather_conditions                  \n",
       "Bad                 2926.0  4044.0  \n",
       "Good                2460.0  3982.0  "
      ]
     },
     "execution_count": 34,
     "metadata": {},
     "output_type": "execute_result"
    }
   ],
   "source": [
    "loop_hare_no_outliers.groupby('weather_conditions')['duration_seconds'].describe()"
   ]
  },
  {
   "cell_type": "code",
   "execution_count": 35,
   "metadata": {},
   "outputs": [
    {
     "data": {
      "image/png": "[encoded data removed]",
      "text/plain": [
       "<Figure size 648x432 with 1 Axes>"
      ]
     },
     "metadata": {
      "needs_background": "light"
     },
     "output_type": "display_data"
    }
   ],
   "source": [
    "plt.figure(figsize = (9,6))\n",
    "fig = sns.boxplot(data = loop_hare_no_outliers, x= 'duration_seconds' ,y = 'weather_conditions')\n",
    "fig.set_title('Distribution of Trips Duration Based on Weather Condition' , fontsize = 18)\n",
    "fig.set_ylabel(\"Weather Condition\", fontsize=15);\n",
    "fig.set_xlabel(\"Trip Duration (Sec)\", fontsize=15);\n",
    "plt.xticks(fontsize = 13);\n",
    "plt.yticks(fontsize = 13);"
   ]
  },
  {
   "cell_type": "markdown",
   "metadata": {},
   "source": [
    "we will now split the data in 2 Datasets based on weather condition"
   ]
  },
  {
   "cell_type": "code",
   "execution_count": 36,
   "metadata": {},
   "outputs": [],
   "source": [
    "Bad = loop_hare_no_outliers[loop_hare_no_outliers['weather_conditions'] == 'Bad']['duration_seconds']\n",
    "Good = loop_hare_no_outliers[loop_hare_no_outliers['weather_conditions'] == 'Good']['duration_seconds']"
   ]
  },
  {
   "cell_type": "markdown",
   "metadata": {},
   "source": [
    "lets check if our data is distributed normally and for that we will use shapiro Test.\n",
    "\n",
    "we will test both datasets and our hypothesises will be:\n",
    "\n",
    "- H0: dataset is distributed normaly \n",
    "- H1: dataset is NOT distributed normaly  \n",
    "\n",
    "we will use a standard critical statistical significance level (alpha= 0.05)"
   ]
  },
  {
   "cell_type": "code",
   "execution_count": 37,
   "metadata": {},
   "outputs": [
    {
     "name": "stdout",
     "output_type": "stream",
     "text": [
      "p-value:  0.0002595653641037643\n",
      "Data does not look Normal (reject H0)\n"
     ]
    }
   ],
   "source": [
    "alpha = 0.05\n",
    "\n",
    "bad_normality = st.shapiro(Bad)\n",
    "\n",
    "print('p-value: ', bad_normality.pvalue)\n",
    "\n",
    "if (bad_normality.pvalue > alpha):\n",
    "    print('Data looks Normal (fail to reject H0)')\n",
    "else:\n",
    "    print('Data does not look Normal (reject H0)')    "
   ]
  },
  {
   "cell_type": "code",
   "execution_count": 38,
   "metadata": {},
   "outputs": [
    {
     "name": "stdout",
     "output_type": "stream",
     "text": [
      "p-value:  1.578696009483761e-20\n",
      "Data does not look Normal (reject H0)\n"
     ]
    }
   ],
   "source": [
    "alpha = 0.05\n",
    "\n",
    "Good_normality = st.shapiro(Good)\n",
    "\n",
    "print('p-value: ', Good_normality.pvalue)\n",
    "\n",
    "if (bad_normality.pvalue > alpha):\n",
    "    print('Data looks Normal (fail to reject H0)')\n",
    "else:\n",
    "    print('Data does not look Normal (reject H0)')  "
   ]
  },
  {
   "cell_type": "markdown",
   "metadata": {},
   "source": [
    "Based on the tests above we see that both of our datasets don't look normal so we will use Levene-Test to check if the variances are equal on both sets.\n",
    "\n",
    "for this this test we will be forming the following hypothesis:\n",
    "- H0: Variances are equal\n",
    "- H1: Variances are Different \n",
    "\n",
    "we will use a standard critical statistical significance level (alpha= 0.05)  \n",
    "\n",
    "- to decide which variation of the Test we will use lets take a look at the hist for both of the sets and then we will decide as follows:  \n",
    "1. median: recommended for skewed distributions.\n",
    "2. mean: recommended for symmetric, moderate-tailed distributions.\n",
    "3. trimmed: recommended for heavy-tailed distributions."
   ]
  },
  {
   "cell_type": "code",
   "execution_count": 39,
   "metadata": {
    "scrolled": false
   },
   "outputs": [
    {
     "data": {
      "image/png": "[encoded data removed]",
      "text/plain": [
       "<Figure size 864x432 with 2 Axes>"
      ]
     },
     "metadata": {
      "needs_background": "light"
     },
     "output_type": "display_data"
    }
   ],
   "source": [
    "plt.figure(figsize = (12,6));\n",
    "plt.subplot(1, 2, 1);\n",
    "fig1 = Good.hist(color = 'teal');\n",
    "plt.title('Ride Duration Distribution with Good Weather', fontsize = 15);\n",
    "fig1.set_ylabel(\"Frequency\", fontsize=12);\n",
    "fig1.set_xlabel(\"Ride Durration\", fontsize=12);\n",
    "\n",
    "plt.subplot(1, 2, 2);\n",
    "fig2 = Bad.hist(color = 'firebrick');\n",
    "plt.title('Ride Duration Distribution with Bad Weather', fontsize = 15);\n",
    "fig2.set_ylabel(\"Frequency\", fontsize=12);\n",
    "fig2.set_xlabel(\"Ride Durration\", fontsize=12);"
   ]
  },
  {
   "cell_type": "markdown",
   "metadata": {},
   "source": [
    "Based on the Hists above we can see that both of our sets are skewed so we will use the Median Variation but we will test with the mean also to double check"
   ]
  },
  {
   "cell_type": "code",
   "execution_count": 40,
   "metadata": {},
   "outputs": [
    {
     "name": "stdout",
     "output_type": "stream",
     "text": [
      "p-value:  0.48389565052589256\n",
      "We can't reject the null hypothesis therefore the variances are equal\n"
     ]
    }
   ],
   "source": [
    "alpha = 0.05\n",
    "\n",
    "variance_equality = st.levene(Good, Bad , center = 'median')\n",
    "\n",
    "print('p-value: ', variance_equality.pvalue)\n",
    "\n",
    "if (variance_equality.pvalue < alpha):\n",
    "        print(\"We reject the null hypothesis and the variances are different \")\n",
    "else:\n",
    "        print(\"We can't reject the null hypothesis therefore the variances are equal\") "
   ]
  },
  {
   "cell_type": "code",
   "execution_count": 41,
   "metadata": {},
   "outputs": [
    {
     "name": "stdout",
     "output_type": "stream",
     "text": [
      "p-value:  0.3358645473312948\n",
      "We can't reject the null hypothesis therefore the variances are equal\n"
     ]
    }
   ],
   "source": [
    "alpha = 0.05\n",
    "\n",
    "variance_equality = st.levene(Good, Bad , center = 'mean')\n",
    "\n",
    "print('p-value: ', variance_equality.pvalue)\n",
    "\n",
    "if (variance_equality.pvalue < alpha):\n",
    "        print(\"We reject the null hypothesis and the variances are different \")\n",
    "else:\n",
    "        print(\"We can't reject the null hypothesis therefore the variances are equal\") "
   ]
  },
  {
   "cell_type": "markdown",
   "metadata": {},
   "source": [
    "in both cases we couldn't reject the null hypothesis so we will consider that the variances in both datasets are equal and now we check our main Hypothesis using Student-Test with consideration that the variances are equal.\n",
    "\n",
    "Our hypothesis is: ***The average duration of rides from the Loop to O'Hare International Airport changes on rainy Saturdays.***\n",
    "\n",
    "for this this test we will be forming the following hypothesis:\n",
    "- H0: average duration of rides in (Good) weather days == average duration of rides in (Bad) weather days\n",
    "- H1: average duration of rides in (Good) weather days != average duration of rides in (Bad) weather days\n",
    "\n",
    "we will use a standard critical statistical significance level (alpha= 0.05) "
   ]
  },
  {
   "cell_type": "code",
   "execution_count": 42,
   "metadata": {},
   "outputs": [
    {
     "name": "stdout",
     "output_type": "stream",
     "text": [
      "p-value:  7.134804780778323e-15\n",
      "We reject the null hypothesis and the average duration of rides changes on rainy days\n"
     ]
    }
   ],
   "source": [
    "alpha = 0.05\n",
    "\n",
    "results = st.ttest_ind(Good, Bad, equal_var = True)\n",
    "\n",
    "print('p-value: ', results.pvalue)\n",
    "\n",
    "if (results.pvalue < alpha):\n",
    "        print(\"We reject the null hypothesis and the average duration of rides changes on rainy days\")\n",
    "else:\n",
    "        print(\"We can't reject the null hypothesis therefore we cann't say that the average duration of rides changes on rainy days\") "
   ]
  },
  {
   "cell_type": "markdown",
   "metadata": {},
   "source": [
    "- based on the Student-Test we can say that the difference in the average duration of rides is significant and the average duration of rides changes on rainy days.\n",
    "- Based on the average taken from the descriptioon table above we can see that the average duration of rides on days with bad weather is longer than that on days with good weather which point out that the average is not only different but also longer in general."
   ]
  },
  {
   "cell_type": "markdown",
   "metadata": {},
   "source": [
    "# Step 6. Final Conclusion\n",
    "\n",
    "As a new ride-sharing company **Zuber** we can recommend the following:\n",
    "\n",
    "- **Location:** it is clear that the Downtown area is the most popular dropoff location which makes it also one of the most probable location to get a cab for going back home. Therefore it is recommended that the company takes this into consideration and the following measures can be implemented if possible: \n",
    "    1. increase the number of available cars in this area \n",
    "    2. implement a fare-rate system that will decrease the rate while going toward this area and increase it the further away as it is more likely for the car going away to return empty or wait for a longer to get a new customer than the cars going towrds Downtown  \n",
    "\n",
    "\n",
    "- **Company and partnerships:** as it is not clear which system the company is planning to adopt (partnering with existing companies or hire independent drivers) therefore the following can be considered:\n",
    "    1. a partnership with `Flash Cab` as it is the leading company in chicago in this line of expertise\n",
    "    2. try to work with the smaller companies but adopting a new marketing and work system based on the system of `Flash Cab` as it has proven itself effective\n",
    "    3. steer away from existing companies and work solely with independent drivers while adopting a system that will control the rate and area of work for each driver  \n",
    "\n",
    "\n",
    "- **Weather Condition:** as per our test before it is clear that the condition affects the duration of a ride which makes it less profitable as it means less rides per day therefore it is recommended to implement a system which also consider the length of the ride and not just the length."
   ]
  }
 ],
 "metadata": {
  "kernelspec": {
   "display_name": "Python 3",
   "language": "python",
   "name": "python3"
  },
  "language_info": {
   "codemirror_mode": {
    "name": "ipython",
    "version": 3
   },
   "file_extension": ".py",
   "mimetype": "text/x-python",
   "name": "python",
   "nbconvert_exporter": "python",
   "pygments_lexer": "ipython3",
   "version": "3.8.5"
  },
  "toc": {
   "base_numbering": 1,
   "nav_menu": {},
   "number_sections": true,
   "sideBar": true,
   "skip_h1_title": true,
   "title_cell": "Table of Contents",
   "title_sidebar": "Contents",
   "toc_cell": false,
   "toc_position": {},
   "toc_section_display": true,
   "toc_window_display": false
  }
 },
 "nbformat": 4,
 "nbformat_minor": 4
}
